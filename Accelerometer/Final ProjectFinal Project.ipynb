version https://git-lfs.github.com/spec/v1
oid sha256:2190a2c13372734a239c92e2fb4e7b1c64227d3335c8a0c3ccb49be9f1d35370
size 432838
